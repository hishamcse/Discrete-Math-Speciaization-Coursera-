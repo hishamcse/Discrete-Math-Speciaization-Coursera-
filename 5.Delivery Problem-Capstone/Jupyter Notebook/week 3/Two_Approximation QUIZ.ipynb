{
 "cells": [
  {
   "cell_type": "code",
   "execution_count": 1,
   "metadata": {},
   "outputs": [],
   "source": [
    "import networkx as nx\n",
    "\n",
    "# This function takes as input a graph g.\n",
    "# The graph is complete (i.e., each pair of distinct vertices is connected by an edge),\n",
    "# undirected (i.e., the edge from u to v has the same weight as the edge from v to u),\n",
    "# and has no self-loops (i.e., there are no edges from i to i).\n",
    "#\n",
    "# The function should return a 2-approximation of an optimal Hamiltonian cycle.\n",
    "\n",
    "def approximation(g):\n",
    "    # n is the number of vertices.\n",
    "    n = g.number_of_nodes()\n",
    "    r=0\n",
    "    mst = nx.minimum_spanning_tree(g)\n",
    "    # You might want to use the function \"nx.minimum_spanning_tree(g)\"\n",
    "    # which returns a Minimum Spanning Tree of the graph g\n",
    "    dfs = list(nx.dfs_preorder_nodes(mst, 0))\n",
    "    \n",
    "    for i in range(len(dfs)-1):\n",
    "      r=r+g[dfs[i]][dfs[i+1]]['weight']\n",
    "    # You also might want to use the command \"list(nx.dfs_preorder_nodes(graph, 0))\"\n",
    "    # which gives a list of vertices of the given graph in depth-first preorder.\n",
    "\n",
    "    return r+g[dfs[len(dfs)-1]][dfs[0]]['weight']\n",
    "\n"
   ]
  },
  {
   "cell_type": "code",
   "execution_count": 2,
   "metadata": {},
   "outputs": [
    {
     "name": "stdout",
     "output_type": "stream",
     "text": [
      "6\n"
     ]
    }
   ],
   "source": [
    "g = nx.Graph()\n",
    "# Now we will add 6 edges between 4 vertices\n",
    "g.add_edge(0, 1, weight=2)\n",
    "# We work with undirected graphs, so once we add an edge from 0 to 1, it automatically creates an edge of the same weight from 1 to 0.\n",
    "g.add_edge(1, 2, weight=2)\n",
    "g.add_edge(2, 3, weight=2)\n",
    "g.add_edge(3, 0, weight=2)\n",
    "g.add_edge(0, 2, weight=1)\n",
    "g.add_edge(1, 3, weight=1)\n",
    "\n",
    "print(approximation(g))"
   ]
  },
  {
   "cell_type": "code",
   "execution_count": null,
   "metadata": {},
   "outputs": [],
   "source": []
  }
 ],
 "metadata": {
  "kernelspec": {
   "display_name": "Python 3",
   "language": "python",
   "name": "python3"
  },
  "language_info": {
   "codemirror_mode": {
    "name": "ipython",
    "version": 3
   },
   "file_extension": ".py",
   "mimetype": "text/x-python",
   "name": "python",
   "nbconvert_exporter": "python",
   "pygments_lexer": "ipython3",
   "version": "3.7.6"
  }
 },
 "nbformat": 4,
 "nbformat_minor": 4
}
