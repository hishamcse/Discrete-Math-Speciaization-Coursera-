{
 "cells": [
  {
   "cell_type": "code",
   "execution_count": 5,
   "metadata": {},
   "outputs": [],
   "source": [
    "import networkx as nx\n",
    "\n",
    "\n",
    "# This function takes as input a graph g and a list of vertices of the cycle.\n",
    "# (Each vertex given by its index starting from 0.)\n",
    "# The graph is complete (i.e., each pair of distinct vertices is connected by an edge),\n",
    "# undirected (i.e., the edge from u to v has the same weight as the edge from v to u),\n",
    "# and has no self-loops (i.e., there are no edges from i to i).\n",
    "#\n",
    "# For example, a valid input would be a graph on 3 vertices and cycle = [2, 0, 1].\n",
    "#\n",
    "# The function should return the weight of the cycle.\n",
    "# (Don't forget to add up the last edge connecting the last vertex of the cycle with the first one.)\n",
    "#\n",
    "# If you want to get the weight of the edge between vertices u and v, you can take g[u][v]['weight']\n",
    "\n",
    "\n",
    "def cycle_length(g, cycle):\n",
    "    # Checking that the number of vertices in the graph equals the number of vertices in the cycle.\n",
    "    assert len(cycle) == g.number_of_nodes()\n",
    "    # Write your code here.\n",
    "    s = 0\n",
    "    for i in range(len(cycle) - 1):\n",
    "        s = s + g[cycle[i]][cycle[i + 1]]['weight']\n",
    "\n",
    "    return s + g[cycle[len(cycle) - 1]][cycle[0]]['weight']\n"
   ]
  },
  {
   "cell_type": "code",
   "execution_count": 6,
   "metadata": {},
   "outputs": [
    {
     "name": "stdout",
     "output_type": "stream",
     "text": [
      "8\n"
     ]
    }
   ],
   "source": [
    "g = nx.Graph()\n",
    "    # Now we will add 6 edges between 4 vertices\n",
    "g.add_edge(0, 1, weight=2)\n",
    "    # We work with undirected graphs, so once we add an edge from 0 to 1, it automatically creates an edge of the same weight from 1 to 0.\n",
    "g.add_edge(1, 2, weight=2)\n",
    "g.add_edge(2, 3, weight=2)\n",
    "g.add_edge(3, 0, weight=2)\n",
    "g.add_edge(0, 2, weight=1)\n",
    "g.add_edge(1, 3, weight=1)\n",
    "\n",
    "    # Now we want to compute the lengths of two cycles:\n",
    "cycle1 = [0, 1, 2, 3]\n",
    "cycle2 = [0, 2, 1, 3]\n",
    "\n",
    "print(cycle_length(g,cycle1))\n",
    "\n",
    "assert (cycle_length(g, cycle1) == 8)\n",
    "assert(cycle_length(g, cycle2) == 6)\n"
   ]
  },
  {
   "cell_type": "code",
   "execution_count": null,
   "metadata": {},
   "outputs": [],
   "source": []
  }
 ],
 "metadata": {
  "kernelspec": {
   "display_name": "Python 3",
   "language": "python",
   "name": "python3"
  },
  "language_info": {
   "codemirror_mode": {
    "name": "ipython",
    "version": 3
   },
   "file_extension": ".py",
   "mimetype": "text/x-python",
   "name": "python",
   "nbconvert_exporter": "python",
   "pygments_lexer": "ipython3",
   "version": "3.7.6"
  }
 },
 "nbformat": 4,
 "nbformat_minor": 4
}
