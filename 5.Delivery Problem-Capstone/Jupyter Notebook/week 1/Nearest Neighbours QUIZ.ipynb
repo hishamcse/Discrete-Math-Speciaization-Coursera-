{
 "cells": [
  {
   "cell_type": "code",
   "execution_count": 40,
   "metadata": {},
   "outputs": [],
   "source": [
    "import networkx as nx\n",
    "\n",
    "# This function takes as input a graph g.\n",
    "# The graph is complete (i.e., each pair of distinct vertices is connected by an edge),\n",
    "# undirected (i.e., the edge from u to v has the same weight as the edge from v to u),\n",
    "# and has no self-loops (i.e., there are no edges from i to i).\n",
    "#\n",
    "# The function should return the weight of the nearest neighbor heuristic, which starts at the vertex number 0,\n",
    "# and then each time selects a closest vertex.\n",
    "\n",
    "\n",
    "def nearest_neighbors(g):\n",
    "    current_node = 0\n",
    "    path = [current_node]\n",
    "    n = g.number_of_nodes()\n",
    "\n",
    "    # We'll repeat the same routine (n-1) times\n",
    "    for _ in range(n - 1):\n",
    "        next_node = None\n",
    "        # The distance to the closest vertex. Initialized with infinity.\n",
    "        min_edge = float(\"inf\")\n",
    "        for v in g.nodes():\n",
    "          if v not in path:\n",
    "            if g[current_node][v]['weight']<min_edge:\n",
    "                min_edge=g[current_node][v]['weight']\n",
    "                next_node=v\n",
    "            # Write your code here: decide if v is a better candidate than next_node.\n",
    "            # If it is, then update the values of next_node and min_edge\n",
    "\n",
    "        assert next_node is not None\n",
    "        path.append(next_node)\n",
    "        current_node = next_node\n",
    "\n",
    "    weight = sum(g[path[i]][path[i + 1]]['weight'] for i in range(g.number_of_nodes() - 1))\n",
    "    weight += g[path[n-1]][path[0]]['weight']\n",
    "    return weight\n",
    "\n",
    "# You might want to copy your solution to your Jupiter Notebook to see how close this heuristic is to the optimal solution."
   ]
  },
  {
   "cell_type": "code",
   "execution_count": 41,
   "metadata": {},
   "outputs": [
    {
     "name": "stdout",
     "output_type": "stream",
     "text": [
      "6\n"
     ]
    }
   ],
   "source": [
    "g = nx.Graph()\n",
    "# Now we will add 6 edges between 4 vertices\n",
    "g.add_edge(0, 1, weight=2)\n",
    "# We work with undirected graphs, so once we add an edge from 0 to 1, it automatically creates an edge of the same weight from 1 to 0.\n",
    "g.add_edge(1, 2, weight=2)\n",
    "g.add_edge(2, 3, weight=2)\n",
    "g.add_edge(3, 0, weight=2)\n",
    "g.add_edge(0, 2, weight=1)\n",
    "g.add_edge(1, 3, weight=1)\n",
    "\n",
    "print(nearest_neighbors(g))"
   ]
  },
  {
   "cell_type": "code",
   "execution_count": null,
   "metadata": {},
   "outputs": [],
   "source": []
  }
 ],
 "metadata": {
  "kernelspec": {
   "display_name": "Python 3",
   "language": "python",
   "name": "python3"
  },
  "language_info": {
   "codemirror_mode": {
    "name": "ipython",
    "version": 3
   },
   "file_extension": ".py",
   "mimetype": "text/x-python",
   "name": "python",
   "nbconvert_exporter": "python",
   "pygments_lexer": "ipython3",
   "version": "3.7.6"
  }
 },
 "nbformat": 4,
 "nbformat_minor": 4
}
