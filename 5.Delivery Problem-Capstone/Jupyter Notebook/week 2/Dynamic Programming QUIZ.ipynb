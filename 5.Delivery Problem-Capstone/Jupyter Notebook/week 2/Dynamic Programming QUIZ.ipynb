{
 "cells": [
  {
   "cell_type": "code",
   "execution_count": 3,
   "metadata": {},
   "outputs": [],
   "source": [
    "import networkx as nx\n",
    "from itertools import chain, combinations\n",
    "\n",
    "# This function takes as input a graph g.\n",
    "# The graph is complete (i.e., each pair of distinct vertices is connected by an edge),\n",
    "# undirected (i.e., the edge from u to v has the same weight as the edge from v to u),\n",
    "# and has no self-loops (i.e., there are no edges from i to i).\n",
    "#\n",
    "# The function should return an optimal weight of a Hamiltonian cycle.\n",
    "\n",
    "# This function returns all the subsets of the given set s in the increasing order of their sizes.\n",
    "def powerset(s):\n",
    "    return chain.from_iterable(combinations(s, r) for r in range(len(s) + 1))\n",
    "\n",
    "\n",
    "# This function finds an optimal Hamiltonian cycle using the dynamic programming approach.\n",
    "def dynamic_programming(g):\n",
    "    # n is the number of vertices.\n",
    "    n = g.number_of_nodes()\n",
    "\n",
    "    # The variable power now contains a tuple for each subset of the set {1, ..., n-1}.\n",
    "    power = powerset(range(1, n))\n",
    "    # The variable T is a dictionary, where the element T[s, i] for a set s and an integer i\n",
    "    # equals the shortest path going through each vertex from s exactly once,\n",
    "    # and ending at the vertex i.\n",
    "    # Note that i must be in s.\n",
    "    # Also, we will always assume that we start our cycle from the vertex number 0.\n",
    "    # Thus, for convenience, we will always exclude the element 0 from the set s.\n",
    "    T = {}\n",
    "    # For every non-zero vertex i, we say that T[ tuple with the element i only, i]\n",
    "    # equals the weight of the edge from 0 to i.\n",
    "    # Indeed, by the definition of T, this element must be equal to the weight of\n",
    "    # the shortest path which goes through the vertices 0 and i and ends at the vertex i.\n",
    "    for i in range(1, n):\n",
    "        # Syntactic note: In Python, we define a tuple of length 1 that contains the element i as (i,) *with comma*.\n",
    "        T[(i,), i] = g[0][i]['weight']\n",
    "\n",
    "    # For every subset s of [1,...,n-1]\n",
    "    for s in power:\n",
    "        # We have already initialized the elements of T indexed by sets of size 1, so we skip them.\n",
    "        if len(s) > 1:\n",
    "            # For every vertex i from s which we consider as the ending vertex of a path going through vertices from s.\n",
    "            for i in s:\n",
    "                # Define the tuple which contains all elements from s without *the last vertex* i.\n",
    "                T[s,i]=float('inf')\n",
    "                t = tuple([x for x in s if x != i])\n",
    "                for j in s:\n",
    "                  if j == i: \n",
    "                      continue\n",
    "                  \n",
    "                  T[s, i] = min(T[s, i], T[t, j] + g[j][i]['weight']) \n",
    "                # Now we compute the optimal value of a cycle which visits all vertices from s and ends at the vertex i.\n",
    "\n",
    "                # WRITE YOUR CODE HERE\n",
    "\n",
    "    # Return the weight of on optimal cycle - this is the minimum of the following sum:\n",
    "    # weight of a path + the last edge to the vertex 0.\n",
    "    return min(T[tuple(range(1, n)), i] + g[i][0]['weight'] for i in range(1, n))\n",
    "\n"
   ]
  },
  {
   "cell_type": "code",
   "execution_count": 4,
   "metadata": {},
   "outputs": [
    {
     "name": "stdout",
     "output_type": "stream",
     "text": [
      "6\n"
     ]
    }
   ],
   "source": [
    "g = nx.Graph()\n",
    "# Now we will add 6 edges between 4 vertices\n",
    "g.add_edge(0, 1, weight=2)\n",
    "# We work with undirected graphs, so once we add an edge from 0 to 1, it automatically creates an edge of the same weight from 1 to 0.\n",
    "g.add_edge(1, 2, weight=2)\n",
    "g.add_edge(2, 3, weight=2)\n",
    "g.add_edge(3, 0, weight=2)\n",
    "g.add_edge(0, 2, weight=1)\n",
    "g.add_edge(1, 3, weight=1)\n",
    "\n",
    "print(dynamic_programming(g))"
   ]
  },
  {
   "cell_type": "code",
   "execution_count": null,
   "metadata": {},
   "outputs": [],
   "source": []
  }
 ],
 "metadata": {
  "kernelspec": {
   "display_name": "Python 3",
   "language": "python",
   "name": "python3"
  },
  "language_info": {
   "codemirror_mode": {
    "name": "ipython",
    "version": 3
   },
   "file_extension": ".py",
   "mimetype": "text/x-python",
   "name": "python",
   "nbconvert_exporter": "python",
   "pygments_lexer": "ipython3",
   "version": "3.7.6"
  }
 },
 "nbformat": 4,
 "nbformat_minor": 4
}
